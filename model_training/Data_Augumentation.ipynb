{
  "nbformat": 4,
  "nbformat_minor": 0,
  "metadata": {
    "colab": {
      "provenance": [],
      "authorship_tag": "ABX9TyPALpP+rVE4uP7orNFf8MuN",
      "include_colab_link": true
    },
    "kernelspec": {
      "name": "python3",
      "display_name": "Python 3"
    },
    "language_info": {
      "name": "python"
    }
  },
  "cells": [
    {
      "cell_type": "markdown",
      "metadata": {
        "id": "view-in-github",
        "colab_type": "text"
      },
      "source": [
        "<a href=\"https://colab.research.google.com/github/Adebesin-Aramide/Ulcer_Management_System/blob/feat%2Fflare_up/Data_Augumentation.ipynb\" target=\"_parent\"><img src=\"https://colab.research.google.com/assets/colab-badge.svg\" alt=\"Open In Colab\"/></a>"
      ]
    },
    {
      "cell_type": "code",
      "execution_count": null,
      "metadata": {
        "id": "RaUe0GAAtPFY"
      },
      "outputs": [],
      "source": [
        "import pandas as pd\n",
        "import numpy as np\n",
        "import random\n",
        "from datetime import datetime, timedelta\n",
        "\n",
        "# Load the real dataset to mirror distributions\n",
        "df_real = pd.read_csv(\"Realistic_Ulcer_Dataset.csv\")\n"
      ]
    },
    {
      "cell_type": "code",
      "source": [
        " #Define helper functions for categorical distributions\n",
        "def sample_from_column(col):\n",
        "    return np.random.choice(df_real[col].dropna().unique())\n",
        "\n",
        "def generate_random_time():\n",
        "    return f\"{random.randint(6, 22):02}:{random.choice([0, 30]):02}\"\n",
        "\n",
        "def generate_random_symptoms():\n",
        "    all_symptoms = set()\n",
        "    for s in df_real[\"Symptoms\"].dropna():\n",
        "        all_symptoms.update(s.split(\";\"))\n",
        "    return \";\".join(random.sample(list(all_symptoms), k=random.randint(0, 3))) or \"None\"\n",
        "\n",
        "def generate_random_meals():\n",
        "    all_meals = set()\n",
        "    for m in df_real[\"Meals\"].dropna():\n",
        "        all_meals.update(m.split(\";\"))\n",
        "    return \";\".join(random.sample(list(all_meals), k=random.randint(1, 5)))\n",
        "\n",
        "def generate_random_triggers():\n",
        "    all_triggers = set()\n",
        "    for t in df_real[\"TriggerCauses\"].dropna():\n",
        "        all_triggers.update(t.split(\";\"))\n",
        "    return \";\".join(random.sample(list(all_triggers), k=random.randint(0, 3))) or \"None\"\n",
        "\n",
        "# Generate synthetic logs\n",
        "def generate_synthetic_logs(n=100):\n",
        "    synthetic_data = []\n",
        "    for _ in range(n):\n",
        "        date = (datetime.today() - timedelta(days=random.randint(0, 30))).strftime(\"%Y-%m-%d\")\n",
        "        age = random.randint(18, 70)\n",
        "        gender = sample_from_column(\"Gender\")\n",
        "        took_med = sample_from_column(\"TakeUlcerMed\")\n",
        "        med_time = generate_random_time() if took_med == \"Yes\" else \"None\"\n",
        "        pain_rating = random.randint(1, 5)\n",
        "        symptoms = generate_random_symptoms()\n",
        "        duration = sample_from_column(\"Duration\")\n",
        "        symptom_change = random.randint(1, 10)\n",
        "        meals = generate_random_meals()\n",
        "        triggers = generate_random_triggers()\n",
        "        ate_triggers = sample_from_column(\"AteTriggers\")\n",
        "        skipped_meal = sample_from_column(\"SkippedMeal\")\n",
        "        ate_late = sample_from_column(\"AteLate\")\n",
        "        took_nsaid = sample_from_column(\"TookNSAID\")\n",
        "        stress = random.randint(1, 5)\n",
        "        cancer_diag = sample_from_column(\"CancerDiag\")\n",
        "        family_history = sample_from_column(\"FamilyHistory\")\n",
        "        h_pylori = sample_from_column(\"HpyloriUlcer\")\n",
        "        log_time = datetime.now().strftime(\"%Y-%m-%d %H:%M:%S\")\n",
        "\n",
        "        row = [\n",
        "            date, age, gender, took_med, med_time, pain_rating, symptoms, duration,\n",
        "            symptom_change, meals, triggers, ate_triggers, skipped_meal, ate_late,\n",
        "            took_nsaid, stress, cancer_diag, family_history, h_pylori, log_time\n",
        "        ]\n",
        "        synthetic_data.append(row)\n",
        "\n",
        "    return pd.DataFrame(synthetic_data, columns=df_real.columns)"
      ],
      "metadata": {
        "id": "164RoqCUtZm6"
      },
      "execution_count": null,
      "outputs": []
    },
    {
      "cell_type": "code",
      "source": [
        "# Generate 100 synthetic entries\n",
        "synthetic_df = generate_synthetic_logs(n=100)\n",
        "\n",
        "#append\n",
        "synthetic_df.to_csv(\"Synthetic_Ulcer_Dataset.csv\", index=False)"
      ],
      "metadata": {
        "id": "s6AERugEtTeC"
      },
      "execution_count": null,
      "outputs": []
    }
  ]
}